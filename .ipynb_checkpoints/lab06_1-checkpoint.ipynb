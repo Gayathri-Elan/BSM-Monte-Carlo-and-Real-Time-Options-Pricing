{
  "cells": [
    {
      "cell_type": "code",
      "execution_count": 1,
      "metadata": {
        "id": "-Xh8bsW03A-5"
      },
      "outputs": [],
      "source": [
        "import numpy as np\n",
        "import matplotlib.pyplot as plt\n",
        "from pandas import read_csv\n",
        "import pylab as py\n",
        "import os\n",
        "import statsmodels.api as sm"
      ]
    },
    {
      "cell_type": "code",
      "execution_count": 2,
      "metadata": {
        "id": "PzPZhRZK3A-8"
      },
      "outputs": [],
      "source": [
        "from pandas import to_datetime\n",
        "import pandas as pd"
      ]
    },
    {
      "cell_type": "code",
      "execution_count": 3,
      "metadata": {
        "id": "UCH5izSp3A-9"
      },
      "outputs": [],
      "source": [
        "def plotPrices(market='', stock='', period='Day', index=False):\n",
        "    fields=['Date', 'Open', 'Close']\n",
        "    if index:\n",
        "        data = read_csv('./'+market.lower()+'data1.csv', \n",
        "            usecols=fields, index_col=False)\n",
        "    else:\n",
        "        data = read_csv('/content/'+market.upper()+'/'+stock, \n",
        "            usecols=fields, index_col=False)\n",
        "\n",
        "    price = data\n",
        "\n",
        "    if period == 'Day':\n",
        "        price = data\n",
        "    elif period == 'Week':\n",
        "        data['Day'] = (to_datetime(data['Date'])).dt.day_name()\n",
        "        price = data.loc[data['Day'] == 'Monday']\n",
        "    else:\n",
        "        price = data.groupby(pd.DatetimeIndex(data['Date']).to_period('M')).nth(0)\n",
        "    X = np.arange(len(price))\n",
        "    Y = np.array(price['Close'])\n",
        "\n",
        "    if index:\n",
        "        plt.title(market.upper()+\" Index Data \"+stock+\" Period=\"+str(period))\n",
        "    else:\n",
        "        plt.title(market.upper()+\" Stock Data \"+stock+\" Period=\"+str(period))\n",
        "    plt.xlabel(\"Time\")\n",
        "    plt.ylabel(\"Index Value\")\n",
        "    plt.plot(X, Y, label=period)\n",
        "    plt.legend()"
      ]
    },
    {
      "cell_type": "code",
      "execution_count": 5,
      "metadata": {
        "id": "8N8Bhmhr3A-9"
      },
      "outputs": [],
      "source": [
        "def model(market='BSE', stock='', period='Day', index=False):\n",
        "    print(period)\n",
        "    pad = 0\n",
        "    fields=['Date', 'Open', 'Close']\n",
        "    if index:\n",
        "        data = read_csv('./'+market.lower()+'data1.csv', \n",
        "            usecols=fields, index_col=False)\n",
        "    else:\n",
        "        data = read_csv('/content/'+market.upper()+'/'+stock, \n",
        "            usecols=fields, index_col=False)\n",
        "\n",
        "    price = data\n",
        "    \n",
        "    if period == 'Day':\n",
        "        price = data\n",
        "    elif period == 'Week':\n",
        "        data['Day'] = (to_datetime(data['Date'])).dt.day_name()\n",
        "        price = data.loc[data['Day'] == 'Monday']\n",
        "    else:\n",
        "        price = data.groupby(pd.DatetimeIndex(data['Date']).to_period('M')).nth(0)\n",
        "    \n",
        "    ret = np.array((price['Close']-price['Open'])/price['Open'])\n",
        "    bins = 50\n",
        "    mean_ret = np.mean(ret)\n",
        "    std_dev_ret = np.std(ret)\n",
        "    norm_ret = (ret - mean_ret)/std_dev_ret   \n",
        "    plt.subplot(2, 2, pad+1)\n",
        "    \n",
        "    if index:\n",
        "        plt.title(market.upper()+\" Index Data \"+stock+\" Period=\"+str(period))\n",
        "    else:\n",
        "        plt.title(market.upper()+\" Stock Data \"+stock+\" Period=\"+str(period))\n",
        "    plt.xlabel(\"Normal Return\")\n",
        "    plt.ylabel(\"Frequency\")\n",
        "    \n",
        "    plt.hist(norm_ret, bins=bins, color='orange', \n",
        "                edgecolor='black', linewidth=0.3, density=True)\n",
        "\n",
        "    mu, sig = 0, 1\n",
        "    \n",
        "    X = np.linspace(min(norm_ret), max(norm_ret), len(norm_ret))\n",
        "    Y = (1/(2*np.pi*(sig**2))**0.5)*np.exp(-(X-mu)**2/(sig)**2)\n",
        "    plt.plot(X, Y, color='blue', label = \"Standard Normal\")\n",
        "    if period == 'Daily':\n",
        "        plt.legend()\n",
        "    log_ret = np.log(1 + ret)\n",
        "    mean_log_ret = np.mean(log_ret)\n",
        "    std_dev_log_ret = np.std(log_ret)\n",
        "    norm_log_ret = (log_ret - mean_log_ret)/std_dev_log_ret\n",
        "    plt.subplot(2, 2, pad+2)\n",
        "\n",
        "    if index:\n",
        "        plt.title(market.upper()+\" Index Data \"+stock+\" Period=\"+str(period))\n",
        "    else:\n",
        "        plt.title(market.upper()+\" Stock Data \"+stock+\" Period=\"+str(period))\n",
        "    plt.xlabel(\"Normalised Log Return\")\n",
        "    plt.ylabel(\"Frequency\")\n",
        "\n",
        "    plt.hist(norm_log_ret, bins=bins, color='orange',\n",
        "         edgecolor='black', linewidth=0.3, density=True)\n",
        "\n",
        "    mu, sig = 0, 1\n",
        "    \n",
        "    X = np.linspace(min(norm_log_ret), max(norm_log_ret), len(norm_log_ret))\n",
        "    Y = (1/(2*np.pi*(sig**2))**0.5)*np.exp(-(X-mu)**2/(sig)**2)\n",
        "    plt.plot(X, Y, color='blue', label = \"Standard Normal\")\n",
        "    if period == 'Day':\n",
        "        plt.legend()\n",
        "    if period == 'Day':\n",
        "        initial_ret = log_ret[:987]\n",
        "        mu = np.sum(initial_ret)/len(initial_ret)/240\n",
        "        sig = np.std(initial_ret)\n",
        "\n",
        "        n = len(log_ret) - 987\n",
        "        print(n)\n",
        "        phi = np.random.normal(0, 1, n)\n",
        "        W = np.zeros(n)\n",
        "        W[0] = 0\n",
        "        for i in range(1, n):\n",
        "            W[i] = W[i-1]+phi[i]\n",
        "\n",
        "        S = np.zeros(n)\n",
        "        S[0] = price.iloc[987]['Close']\n",
        "        for i in range(1, n):\n",
        "            S[i] = S[0]*np.exp(sig*W[i]+(log_ret[987+i]-0.5*(sig**2))*i/240)\n",
        "\n",
        "        S = np.reshape(S, (len(S), 1))\n",
        "        actPrice = np.array(price[fields[1]])\n",
        "        predPrice = actPrice[:987]\n",
        "        predPrice = np.reshape(predPrice, (len(predPrice), 1))\n",
        "        predPrice = np.vstack((predPrice, S))\n",
        "        Y1 = predPrice\n",
        "        Y2 = actPrice\n",
        "        X = np.arange(len(Y1))\n",
        "        plt.subplot(2, 2, pad+3)\n",
        "        plt.plot(X, Y1, color='blue', label='Predicted Price')\n",
        "        plt.plot(X, Y2, color='red', label='Actual Price')\n",
        "        plt.xlabel('Time')\n",
        "        plt.ylabel('Stock Price')\n",
        "        plt.legend()\n",
        "    plt.subplot(2,2, pad+4)\n",
        "    plt.boxplot(norm_ret)\n",
        "    plt.show()\n",
        "    sm.qqplot(norm_ret, line ='45')\n",
        "    py.show()"
      ]
    },
    {
      "cell_type": "code",
      "execution_count": 6,
      "metadata": {
        "id": "WNAs4V6I3A--"
      },
      "outputs": [],
      "source": [
        "periodicity = ['Day', 'Week', 'Month']"
      ]
    },
    {
      "cell_type": "code",
      "execution_count": 5,
      "metadata": {
        "colab": {
          "base_uri": "https://localhost:8080/",
          "height": 235
        },
        "id": "jBm255mq3A--",
        "outputId": "87a06e64-b7e7-41fb-cbbe-cf13284da53f"
      },
      "outputs": [
        {
          "output_type": "error",
          "ename": "FileNotFoundError",
          "evalue": "ignored",
          "traceback": [
            "\u001b[0;31m---------------------------------------------------------------------------\u001b[0m",
            "\u001b[0;31mFileNotFoundError\u001b[0m                         Traceback (most recent call last)",
            "\u001b[0;32m<ipython-input-5-f700c5de1be7>\u001b[0m in \u001b[0;36m<cell line: 2>\u001b[0;34m()\u001b[0m\n\u001b[1;32m      1\u001b[0m \u001b[0mf\u001b[0m \u001b[0;34m=\u001b[0m \u001b[0;36m1\u001b[0m\u001b[0;34m\u001b[0m\u001b[0;34m\u001b[0m\u001b[0m\n\u001b[0;32m----> 2\u001b[0;31m \u001b[0;32mfor\u001b[0m \u001b[0mname\u001b[0m \u001b[0;32min\u001b[0m \u001b[0mos\u001b[0m\u001b[0;34m.\u001b[0m\u001b[0mlistdir\u001b[0m\u001b[0;34m(\u001b[0m\u001b[0;34m\"/content/NSE\"\u001b[0m\u001b[0;34m)\u001b[0m\u001b[0;34m:\u001b[0m\u001b[0;34m\u001b[0m\u001b[0;34m\u001b[0m\u001b[0m\n\u001b[0m\u001b[1;32m      3\u001b[0m     \u001b[0;32mif\u001b[0m \u001b[0mname\u001b[0m \u001b[0;34m==\u001b[0m \u001b[0;34m'.ipynb_checkpoints'\u001b[0m\u001b[0;34m:\u001b[0m\u001b[0;34m\u001b[0m\u001b[0;34m\u001b[0m\u001b[0m\n\u001b[1;32m      4\u001b[0m       \u001b[0;32mcontinue\u001b[0m\u001b[0;34m\u001b[0m\u001b[0;34m\u001b[0m\u001b[0m\n\u001b[1;32m      5\u001b[0m     \u001b[0max\u001b[0m \u001b[0;34m=\u001b[0m \u001b[0mplt\u001b[0m\u001b[0;34m.\u001b[0m\u001b[0mfigure\u001b[0m\u001b[0;34m(\u001b[0m\u001b[0mf\u001b[0m\u001b[0;34m,\u001b[0m \u001b[0mfigsize\u001b[0m\u001b[0;34m=\u001b[0m\u001b[0;34m(\u001b[0m\u001b[0;36m15.0\u001b[0m\u001b[0;34m,\u001b[0m \u001b[0;36m8.0\u001b[0m\u001b[0;34m)\u001b[0m\u001b[0;34m)\u001b[0m\u001b[0;34m\u001b[0m\u001b[0;34m\u001b[0m\u001b[0m\n",
            "\u001b[0;31mFileNotFoundError\u001b[0m: [Errno 2] No such file or directory: '/content/NSE'"
          ]
        }
      ],
      "source": [
        "f = 1\n",
        "for name in os.listdir(\"/content/NSE\"):\n",
        "    if name == '.ipynb_checkpoints':\n",
        "      continue\n",
        "    ax = plt.figure(f, figsize=(15.0, 8.0))\n",
        "    for i in range(len(periodicity)):\n",
        "        plt.subplot(2, len(periodicity), i+1)\n",
        "        plotPrices(market='NSE', stock=name, period=periodicity[i], index=False)\n",
        "    ax.savefig('/content/Plots/'+name[:-4]+'_1.png')\n",
        "    ax.show()\n",
        "    f = f+1"
      ]
    },
    {
      "cell_type": "code",
      "execution_count": null,
      "metadata": {
        "id": "Ae5YkeAj3A--"
      },
      "outputs": [],
      "source": [
        "ccf = 1\n",
        "for name in os.listdir(\"/content/NSE\"):\n",
        "    if name == '.ipynb_checkpoints':\n",
        "      continue\n",
        "    ax = plt.figure(f, figsize=(15.0, 8.0))\n",
        "    for i in range(len(periodicity)):\n",
        "        ax = plt.figure(f, figsize=(15.0, 8.0))\n",
        "        model(market='NSE', stock=name, period=periodicity[i], index=False)\n",
        "    ax.savefig('/content/Plots/'+name[:-4]+'_2.png')\n",
        "    ax.show()\n",
        "    f = f+1"
      ]
    },
    {
      "cell_type": "code",
      "execution_count": null,
      "metadata": {
        "id": "4xWYs-y63A-_"
      },
      "outputs": [],
      "source": []
    }
  ],
  "metadata": {
    "kernelspec": {
      "display_name": "Python 3",
      "language": "python",
      "name": "python3"
    },
    "language_info": {
      "codemirror_mode": {
        "name": "ipython",
        "version": 3
      },
      "file_extension": ".py",
      "mimetype": "text/x-python",
      "name": "python",
      "nbconvert_exporter": "python",
      "pygments_lexer": "ipython3",
      "version": "3.6.7"
    },
    "colab": {
      "provenance": []
    }
  },
  "nbformat": 4,
  "nbformat_minor": 0
}