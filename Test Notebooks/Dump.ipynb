{
 "cells": [
  {
   "cell_type": "code",
   "execution_count": 1,
   "id": "c74f3255-cd9b-4205-b3e2-3f8319c58158",
   "metadata": {},
   "outputs": [
    {
     "name": "stdout",
     "output_type": "stream",
     "text": [
      "Empty DataFrame\n",
      "Columns: [contractSymbol, lastTradeDate, strike, lastPrice, bid, ask, change, percentChange, volume, openInterest, impliedVolatility, inTheMoney, contractSize, currency]\n",
      "Index: []\n"
     ]
    }
   ],
   "source": [
    "import yfinance as yf\n",
    "\n",
    "# Specify the stock ticker symbol and expiration date\n",
    "ticker = \"IBM\"\n",
    "expiration_date = \"2023-05-19\"\n",
    "\n",
    "# Get the options data for the stock and expiration date\n",
    "option_chain = yf.Ticker(ticker).option_chain(expiration_date)\n",
    "\n",
    "# Filter the option data to get European call options\n",
    "european_call_options = option_chain.calls[option_chain.calls[\"contractSymbol\"].str.endswith(\".E\")]\n",
    "\n",
    "# Print the European call option data\n",
    "print(european_call_options)"
   ]
  },
  {
   "cell_type": "code",
   "execution_count": 2,
   "id": "114b0484-5f7d-4408-84ce-32879e1a0fbb",
   "metadata": {},
   "outputs": [
    {
     "name": "stdout",
     "output_type": "stream",
     "text": [
      "Empty DataFrame\n",
      "Columns: [contractSymbol, lastTradeDate, strike, lastPrice, bid, ask, change, percentChange, volume, openInterest, impliedVolatility, inTheMoney, contractSize, currency]\n",
      "Index: []\n"
     ]
    }
   ],
   "source": [
    "import yfinance as yf\n",
    "import pandas as pd\n",
    "\n",
    "# Specify the stock ticker symbol\n",
    "ticker = \"IBM\"\n",
    "\n",
    "# Get the options data for the stock\n",
    "options_data = yf.Ticker(ticker).options\n",
    "\n",
    "# Get the European options data\n",
    "european_options = []\n",
    "for expiration_date in options_data:\n",
    "    option_chain = yf.Ticker(ticker).option_chain(expiration_date)\n",
    "    european_options.append(option_chain.calls[option_chain.calls[\"contractSymbol\"].str.endswith(\".E\")])\n",
    "    european_options.append(option_chain.puts[option_chain.puts[\"contractSymbol\"].str.endswith(\".E\")])\n",
    "\n",
    "# Concatenate the European call and put options data into a single dataframe\n",
    "european_options_data = pd.concat(european_options)\n",
    "\n",
    "# Print the European options data\n",
    "print(european_options_data)"
   ]
  },
  {
   "cell_type": "code",
   "execution_count": null,
   "id": "3d0d0db3-13c1-4e70-a513-702abd837f91",
   "metadata": {},
   "outputs": [],
   "source": [
    "import yfinance as yf\n",
    "import pandas as pd\n",
    "\n",
    "# Retrieve a list of all tickers on the NASDAQ stock exchange\n",
    "nasdaq_listed = pd.read_csv(\"https://old.nasdaq.com/screening/companies-by-industry.aspx?exchange=NASDAQ&render=download\")\n",
    "\n",
    "# Filter tickers to only include those with European call options available\n",
    "european_call_tickers = []\n",
    "i=0\n",
    "for ticker in nasdaq_listed['Symbol'] and i<=1000:\n",
    "    try:\n",
    "        option_chain = yf.Ticker(ticker).option_chain(next(iter(yf.Ticker(ticker).options)))\n",
    "        if not option_chain.calls[option_chain.calls[\"contractSymbol\"].str.endswith(\".E\")].empty:\n",
    "            european_call_tickers.append(ticker)\n",
    "    except:\n",
    "        pass\n",
    "    i+=1\n",
    "\n",
    "# Print the list of tickers with European call options available\n",
    "print(european_call_tickers)"
   ]
  }
 ],
 "metadata": {
  "kernelspec": {
   "display_name": "Python 3 (ipykernel)",
   "language": "python",
   "name": "python3"
  },
  "language_info": {
   "codemirror_mode": {
    "name": "ipython",
    "version": 3
   },
   "file_extension": ".py",
   "mimetype": "text/x-python",
   "name": "python",
   "nbconvert_exporter": "python",
   "pygments_lexer": "ipython3",
   "version": "3.10.2"
  }
 },
 "nbformat": 4,
 "nbformat_minor": 5
}
