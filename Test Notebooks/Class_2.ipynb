{
 "cells": [
  {
   "cell_type": "code",
   "execution_count": 2,
   "id": "80e066c2-61f0-429d-b1cf-656b4f822261",
   "metadata": {},
   "outputs": [],
   "source": [
    "import numpy as np\n",
    "import yfinance as yf\n",
    "import matplotlib.pyplot as plt\n",
    "import pandas as pd\n",
    "from scipy.stats import norm\n",
    "from scipy.stats import lognorm\n",
    "import math\n",
    "from datetime import date\n",
    "from datetime import datetime\n",
    "import seaborn as sns"
   ]
  },
  {
   "cell_type": "code",
   "execution_count": null,
   "id": "9cbf86ff-4902-443c-a58a-cbbfe0f045ce",
   "metadata": {},
   "outputs": [],
   "source": [
    "def histogram(a,values):\n",
    "    xmin=np.min(a)\n",
    "    xmax=np.max(a)\n",
    "    L=100 #the number of segments\n",
    "    Del=(xmax-xmin)/L\n",
    "    bin_cents=[xmin+Del/2+k*Del for k in range(L)]\n",
    "    bin_mins=[xmin+k*Del for k in range(L)]\n",
    "    bin_maxs=[xmin+(k+1)*Del for k in range(L)]\n",
    "    counts=np.zeros(L)\n",
    "    for c1 in range(values):\n",
    "        k=int(np.floor((a[c1]-xmin)/Del))\n",
    "        if k>=L:\n",
    "            counts[L-1]+=1\n",
    "        else:\n",
    "            counts[k]+=1\n",
    "    sns.set_style('whitegrid')\n",
    "    axes=sns.barplot(x=bin_cents,y=counts/values,palette='bright')\n",
    "    axes.set(xlabel='Value',ylabel='Frequency')"
   ]
  },
  {
   "cell_type": "code",
   "execution_count": 3,
   "id": "6fabd57f-ab21-4fa3-8e29-e7377ec937d8",
   "metadata": {},
   "outputs": [],
   "source": [
    "class Options:\n",
    "    def __init__(self,symbol, r,T,M,N, start_date, end_date = date.today()):\n",
    "        self.symbol = symbol\n",
    "        self.start_date = start_date\n",
    "        self.end_date = end_date\n",
    "        self.hist = yf.download(symbol, start=start_date, end=end_date) #Download history for the given symbol\n",
    "        self.contractData = yf.Ticker(symbol)\n",
    "        self.returns = np.log(self.hist[\"Adj Close\"] / self.hist[\"Adj Close\"].shift(1)).dropna()\n",
    "        self.mu = self.returns.mean()\n",
    "        self.sigma = self.returns.std() \n",
    "        self.DF_calls, self.DF_puts = self.contractData.option_chain(self.contractData.options[1])\n",
    "        self.S0 = self.hist[\"Adj Close\"][-1] # current stock price\n",
    "        self.r = r # risk-free rate\n",
    "        self.T = T # time to maturity\n",
    "        self.M = M # number of time steps\n",
    "        self.N = N # number of simulations\n",
    "        #self.q =6T0.03 # annual dividend rate\n",
    "        self.priceMatrix = np.zeros((self.N, self.M+1))\n",
    "        \n",
    "        \n",
    "    def monteCarlo(self):\n",
    "        dt = self.T / self.M\n",
    "        self.priceMatrix[:, 0] = self.S0\n",
    "        for i in range(self.N):\n",
    "            for j in range(1, self.M+1):\n",
    "                self.priceMatrix[i, j] = self.priceMatrix[i, j-1] * np.exp((self.r - 0.5 * self.sigma**2) * dt + self.sigma * np.sqrt(dt) * np.random.normal())\n",
    "                \n",
    "    def meanST(self):           \n",
    "        return self.S0*math.exp((self.r-(self.sigma**2)*0.5)*self.T) * math.exp(0 + self.sigma**2*self.T*0.5)\n",
    "        \n",
    "    def plotMonteCarlo(self):\n",
    "        fig, ax = plt.subplots()\n",
    "        ax.plot(self.priceMatrix.T)\n",
    "        ax.set_xlabel(\"Time\")\n",
    "        ax.set_ylabel(\"Stock Price\")\n",
    "        ax.set_title(\"Simulated Stock Price\")\n",
    "        plt.show() \n",
    "        \n",
    "    def plotHistStock(self):\n",
    "        fig, ax = plt.subplots()\n",
    "        ax.plot(self.hist[\"Adj Close\"])\n",
    "        ax.set_xlabel(\"Date\")\n",
    "        ax.set_ylabel(\"Stock Price\")\n",
    "        plt.show()\n",
    "        \n",
    "    def plotSimulationStock(self):\n",
    "        histogram((self.priceMatrix.T)[self.M-1,:],self.N)\n",
    "        \n",
    "    def plotIdeal(self):\n",
    "        print(self.S0)\n",
    "        mu = self.S0*math.exp((self.mu)*self.T)\n",
    "        print(mu)\n",
    "        #print(np.mean(self.priceMatrix[:, -1]))\n",
    "        sigma2 = self.S0**2 * math.exp(self.r*self.T)**2 * (math.exp(self.sigma**2 * self.T)-1)\n",
    "        print(sigma2)\n",
    "        #print((self.priceMatrix.T)[self.M-1,:].std()**2)\n",
    "        deviations = self.priceMatrix[:, -1] - np.mean(self.priceMatrix[:, -1])\n",
    "        squared_deviations = deviations**2\n",
    "        mean_squared_deviation = np.mean(squared_deviations)\n",
    "        print(mean_squared_deviation)\n",
    "        print(np.std(self.priceMatrix[:,-1]))\n",
    "        s = np.sqrt(sigma2)\n",
    "        scale = np.exp(mu)\n",
    "        x = np.linspace(0, 10, 100)\n",
    "        pdf = lognorm.pdf(x, s=s, scale=scale)\n",
    "        plt.plot(x, pdf)\n",
    "        plt.title('Lognormal Distribution with mu = {} and sigma^2 = {}'.format(mu, s))\n",
    "        plt.xlabel('X')\n",
    "        plt.ylabel('PDF')\n",
    "        plt.show()\n",
    "        \n",
    "    def blackScholesCall(self,K):\n",
    "        # d1 = (np.log(self.S0/K) + (self.r - self.q + self.sigma**2/2)*T) / self.sigma*np.sqrt(T)\n",
    "        # d2 = d1 - self.sigma* np.sqrt(T)\n",
    "        # call = self.S0 * np.exp(-self.q*T)* norm.cdf(d1) - K * np.exp(-self.r*T)*norm.cdf(d2)\n",
    "        d1 = (np.log(self.S0/K) + (self.r  + self.sigma**2/2)*self.T) / self.sigma*np.sqrt(self.T)\n",
    "        d2 = d1 - self.sigma* np.sqrt(self.T)\n",
    "        call = self.S0 * norm.cdf(d1) - K * np.exp(-self.r*self.T)*norm.cdf(d2)\n",
    "        return call\n",
    "    \n",
    "    def simulationCall(self,K):\n",
    "        payoffs = np.maximum(self.priceMatrix[-1]-K, 0)\n",
    "        # print(self.r)\n",
    "        # print(T)\n",
    "        # print(self.priceMatrix[-1]-K)\n",
    "        option_price = np.mean(payoffs)*np.exp(-self.r*self.T) #discounting back to present value\n",
    "        return option_price\n",
    "    \n",
    "    def blackScholesPut(self,K):                          #Black Scholes Put\n",
    "        d1 = (np.log(self.S0/K) + (self.r + self.sigma**2/2)*self.T) / self.sigma*np.sqrt(self.T)\n",
    "        d2 = d1 - self.sigma* np.sqrt(self.T)\n",
    "        put =  K * np.exp(-self.r*self.T)*norm.cdf(-d2) - self.S0 * norm.cdf(-d1)\n",
    "        return put\n",
    "    \n",
    "    def simulationPut(self,K):\n",
    "        payoffs = np.maximum(K-self.priceMatrix[-1],0)\n",
    "        options_price=np.mean(payoffs)*np.exp(-self.r*self.T)\n",
    "        return options_price\n",
    "    \n",
    "    def contractList(self,choice,rng):  #to get multiple contract list table with a given range(rng). Use 'P' for put and 'C' for call in choice parameter.\n",
    "        superDF_calls,superDF_puts=self.contractData.option_chain(self.contractData.options[0])\n",
    "        for i in range(1,rng):\n",
    "                calls1,puts1=self.contractData.option_chain(self.contractData.options[i])\n",
    "                if choice == 'C':\n",
    "                    superDF_calls=pd.concat([superDF_calls,calls1],ignore_index=True)\n",
    "                else:\n",
    "                    superDF_puts=pd.concat([superDF_puts,puts1],ignore_index=True)\n",
    "        if choice == 'C':\n",
    "            return superDF_calls\n",
    "        else:\n",
    "            return superDF_puts\n",
    "        \n"
   ]
  },
  {
   "cell_type": "code",
   "execution_count": 4,
   "id": "fead2c94-2761-45cc-8cfc-9d67a7da2d15",
   "metadata": {},
   "outputs": [
    {
     "name": "stdout",
     "output_type": "stream",
     "text": [
      "[*********************100%***********************]  1 of 1 completed\n"
     ]
    }
   ],
   "source": [
    "TSLA = Options(\"AAPL\",0.05,9/365,500,1000,\"2019-04-08\")"
   ]
  },
  {
   "cell_type": "code",
   "execution_count": 5,
   "id": "7cd34dd0",
   "metadata": {},
   "outputs": [
    {
     "name": "stdout",
     "output_type": "stream",
     "text": [
      "          contractSymbol             lastTradeDate  strike  lastPrice     bid  \\\n",
      "0    AAPL230505C00050000 2023-05-02 15:31:21+00:00    50.0     119.95  119.80   \n",
      "1    AAPL230505C00060000 2023-05-02 17:31:30+00:00    60.0     108.90  109.80   \n",
      "2    AAPL230505C00065000 2023-05-01 13:53:16+00:00    65.0     105.25  104.80   \n",
      "3    AAPL230505C00085000 2023-04-04 14:40:18+00:00    85.0      81.35   83.95   \n",
      "4    AAPL230505C00090000 2023-04-26 13:32:49+00:00    90.0      73.52   79.70   \n",
      "..                   ...                       ...     ...        ...     ...   \n",
      "211  AAPL230602C00215000 2023-04-28 18:18:34+00:00   215.0       0.03    0.00   \n",
      "212  AAPL230602C00225000 2023-05-03 13:30:00+00:00   225.0       0.05    0.00   \n",
      "213  AAPL230602C00230000 2023-04-18 17:35:11+00:00   230.0       0.03    0.00   \n",
      "214  AAPL230602C00245000 2023-05-02 18:57:10+00:00   245.0       0.02    0.00   \n",
      "215  AAPL230602C00250000 2023-04-27 13:30:01+00:00   250.0       0.01    0.00   \n",
      "\n",
      "        ask    change  percentChange  volume  openInterest  impliedVolatility  \\\n",
      "0    120.00  2.099998       1.781925     2.0             2           4.812504   \n",
      "1    109.95  0.000000       0.000000     1.0            12           0.000010   \n",
      "2    104.95  0.000000       0.000000     9.0             9           0.000010   \n",
      "3     85.95  0.000000       0.000000     NaN             1           4.590825   \n",
      "4     79.95  0.000000       0.000000     1.0             3           0.000010   \n",
      "..      ...       ...            ...     ...           ...                ...   \n",
      "211    0.07  0.000000       0.000000     5.0             5           0.349616   \n",
      "212    0.05  0.030000     150.000020     1.0             1           0.390631   \n",
      "213    0.02  0.000000       0.000000     1.0             2           0.378912   \n",
      "214    0.02  0.000000       0.000000     1.0             1           0.449224   \n",
      "215    0.01  0.000000       0.000000     3.0             3           0.437506   \n",
      "\n",
      "     inTheMoney contractSize currency  \n",
      "0          True      REGULAR      USD  \n",
      "1          True      REGULAR      USD  \n",
      "2          True      REGULAR      USD  \n",
      "3          True      REGULAR      USD  \n",
      "4          True      REGULAR      USD  \n",
      "..          ...          ...      ...  \n",
      "211       False      REGULAR      USD  \n",
      "212       False      REGULAR      USD  \n",
      "213       False      REGULAR      USD  \n",
      "214       False      REGULAR      USD  \n",
      "215       False      REGULAR      USD  \n",
      "\n",
      "[216 rows x 14 columns]\n"
     ]
    }
   ],
   "source": [
    "print(TSLA.contractList('C',5))\n",
    "#print(type(TSLA.DF_calls))"
   ]
  },
  {
   "cell_type": "code",
   "execution_count": null,
   "id": "3a82657c-ac42-41a9-baa7-cbe452d2e6a4",
   "metadata": {},
   "outputs": [],
   "source": [
    "TSLA.monteCarlo()\n",
    "TSLA.plotMonteCarlo()"
   ]
  },
  {
   "cell_type": "code",
   "execution_count": null,
   "id": "3991018b-22ea-47ce-bfd1-6095a73958b4",
   "metadata": {},
   "outputs": [],
   "source": [
    "# TSLA.plotHistStock()"
   ]
  },
  {
   "cell_type": "code",
   "execution_count": null,
   "id": "4689480d-4672-4cb6-9e0b-2e24fed9a082",
   "metadata": {},
   "outputs": [],
   "source": [
    "black1 = TSLA.blackScholesCall(50)\n",
    "print(black1)"
   ]
  },
  {
   "cell_type": "code",
   "execution_count": null,
   "id": "9236e29e-6ae5-4b75-88d8-9ee396d189de",
   "metadata": {},
   "outputs": [],
   "source": [
    "path_len = [1,2,3,5,10,50,100,500,1000]\n",
    "l = len(path_len)\n",
    "N_list = np.zeros(l)\n",
    "black = [black1]*l\n",
    "for i in range(l):\n",
    "    TSLA = Options(\"TSLA\",0.05,21/365,500,path_len[i], \"2019-04-08\")\n",
    "    for j in range(5):\n",
    "        TSLA.monteCarlo()\n",
    "        N_list[i] += TSLA.simulationCall(50)/5\n",
    "        \n",
    "# print(N_list)"
   ]
  },
  {
   "cell_type": "code",
   "execution_count": null,
   "id": "e27ca08a-7807-498f-95ef-8d7acd21e900",
   "metadata": {},
   "outputs": [],
   "source": [
    "plt.plot(path_len, black, color='r', label='black scholes')\n",
    "plt.plot(path_len, N_list, color='y', label='simulation')"
   ]
  },
  {
   "cell_type": "code",
   "execution_count": null,
   "id": "8c7f7d18-246d-41ce-8e68-25bcb3543e29",
   "metadata": {
    "tags": []
   },
   "outputs": [],
   "source": [
    "path_steps = [1,2,3,5,10,20,50,75,100,250,500]\n",
    "l = len(path_steps)\n",
    "M_list = np.zeros(l)\n",
    "black = [TSLA.blackScholesCall(50)]*l\n",
    "for i in range(l):\n",
    "    TSLA = Options(\"TSLA\",0.05,9/365,path_steps[i],1000, \"2019-04-08\")\n",
    "    for j in range(10):\n",
    "        TSLA.monteCarlo()\n",
    "        M_list[i] += TSLA.simulationCall(50)/10\n",
    "        \n",
    "print(M_list)"
   ]
  },
  {
   "cell_type": "code",
   "execution_count": null,
   "id": "ca80df07-6985-4661-b193-ee9914fe89c6",
   "metadata": {},
   "outputs": [],
   "source": [
    "# path_steps = np.log(path_steps)\n",
    "plt.plot(path_steps, black, color='r', label='mean')\n",
    "plt.plot(path_steps, M_list, color='y', label='simulation')"
   ]
  },
  {
   "cell_type": "code",
   "execution_count": null,
   "id": "7221b9e8-7ba6-4276-b7eb-717c7b64be30",
   "metadata": {},
   "outputs": [],
   "source": [
    "rates = np.linspace(0.02,0.08,7)\n",
    "l = len(rates)\n",
    "r_list = np.zeros(l)\n",
    "for i in range(len(rates)):\n",
    "    TSLA = Options(\"TSLA\",rates[i],21/365,500,1000, \"2019-04-08\")\n",
    "    for j in range(5):\n",
    "        TSLA.monteCarlo()\n",
    "        r_list[i] += TSLA.simulationCall(50)/5"
   ]
  },
  {
   "cell_type": "code",
   "execution_count": null,
   "id": "3aae45ac-ca78-4e14-8786-5a2e7c030217",
   "metadata": {},
   "outputs": [],
   "source": [
    "r_list"
   ]
  },
  {
   "cell_type": "code",
   "execution_count": null,
   "id": "2fe55b45-a58b-4c6a-a780-60dd6b4b0dd8",
   "metadata": {},
   "outputs": [],
   "source": [
    "TSLA.meanST()"
   ]
  },
  {
   "cell_type": "code",
   "execution_count": null,
   "id": "ef4b1383-ed6a-45bb-b1ee-18ad25e4ada8",
   "metadata": {},
   "outputs": [],
   "source": [
    "#testing data\n",
    "print(TSLA.blackScholesPut(360))\n",
    "print(TSLA.simulationPut(360))"
   ]
  },
  {
   "cell_type": "code",
   "execution_count": null,
   "id": "975ecdab-60c9-41fb-95e2-5acfed7443b7",
   "metadata": {
    "tags": []
   },
   "outputs": [],
   "source": [
    "strikePrice=TSLA.DF_puts.strike\n",
    "l=len(strikePrice)\n",
    "blkschPut=np.zeros(l)\n",
    "simPut=np.zeros(l)\n",
    "diff = []\n",
    "diff2 = []\n",
    "\n",
    "for i in range(l):\n",
    "    blkschPut[i]=TSLA.blackScholesPut(strikePrice[i])\n",
    "    simPut[i]=TSLA.simulationPut(strikePrice[i])\n",
    "    diff.append(TSLA.DF_puts['lastPrice'].iloc[i]-blkschPut[i])\n",
    "    diff2.append(TSLA.DF_puts['lastPrice'].iloc[i]-simPut[i])\n",
    "\n",
    "\n",
    " # print(blkschPut,\"\\n\\n\\n\")\n",
    "# print(simPut,\"\\n\\n\\n\")   \n",
    "\n",
    "\n",
    "plt.plot(strikePrice,blkschPut,label=\"Black Scholes\")\n",
    "plt.plot(strikePrice,simPut,label=\"Simulated\")\n",
    "\n",
    "plt.legend()\n"
   ]
  },
  {
   "cell_type": "code",
   "execution_count": null,
   "id": "fe02194e-56bc-4785-b75f-a5b899ef3e6d",
   "metadata": {},
   "outputs": [],
   "source": [
    "count = 0\n",
    "for i in range(len(diff2)):\n",
    "    if diff[i]>7 or diff[i]<-7:\n",
    "        count += 1\n",
    "\n",
    "Confidence = ((l-count)/l)*100\n",
    "print(l)\n",
    "print(Confidence)"
   ]
  },
  {
   "cell_type": "code",
   "execution_count": null,
   "id": "2c81c261-361b-4ac9-9c7b-3a8aa1380f15",
   "metadata": {},
   "outputs": [],
   "source": [
    "print(TSLA.DF_puts)"
   ]
  },
  {
   "cell_type": "code",
   "execution_count": null,
   "id": "b1a0f44d-d7a5-4b54-a5fa-5f31ec940958",
   "metadata": {},
   "outputs": [],
   "source": [
    "print(TSLA.S0)"
   ]
  },
  {
   "cell_type": "code",
   "execution_count": null,
   "id": "15c8f932-c2de-4cf4-8595-775249a43166",
   "metadata": {},
   "outputs": [],
   "source": [
    "for i in range(l):\n",
    "    contractSym = TSLA.DF_calls['contractSymbol'].iloc[i]\n",
    "    date1 = contractSym[len(\"TSLA\"):len(\"TSLA\")+2] + '/' + contractSym[len(\"TSLA\")+2:len(\"TSLA\")+4] + '/' + contractSym[len(\"TSLA\")+4:len(\"TSLA\")+6]\n",
    "    date2 = datetime.strptime(date1, '%y/%m/%d')\n",
    "    date3 = date(int('20'+ contractSym[len(\"TSLA\"):len(\"TSLA\")+2]), int(contractSym[len(\"TSLA\")+2:len(\"TSLA\")+4]), int(contractSym[len(\"TSLA\")+4:len(\"TSLA\")+6]))\n",
    "    print((date3-date.today()).days)"
   ]
  }
 ],
 "metadata": {
  "kernelspec": {
   "display_name": "Python 3 (ipykernel)",
   "language": "python",
   "name": "python3"
  },
  "language_info": {
   "codemirror_mode": {
    "name": "ipython",
    "version": 3
   },
   "file_extension": ".py",
   "mimetype": "text/x-python",
   "name": "python",
   "nbconvert_exporter": "python",
   "pygments_lexer": "ipython3",
   "version": "3.10.2"
  }
 },
 "nbformat": 4,
 "nbformat_minor": 5
}
